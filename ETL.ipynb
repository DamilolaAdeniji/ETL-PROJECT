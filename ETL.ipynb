{
 "cells": [
  {
   "cell_type": "code",
   "execution_count": 22,
   "metadata": {},
   "outputs": [
    {
     "data": {
      "text/plain": [
       "True"
      ]
     },
     "execution_count": 22,
     "metadata": {},
     "output_type": "execute_result"
    }
   ],
   "source": [
    "#import relevant packages\n",
    "import pandas as pd\n",
    "import numpy as np\n",
    "import requests\n",
    "import pymssql\n",
    "from functions import sql_connector,github_connector, mail_sender, error_messages, azure_blob_uploader\n",
    "import os\n",
    "import datetime as dt\n",
    "from dotenv import load_dotenv\n",
    "load_dotenv()\n",
    "\n",
    "dammy = os.environ['dammy']\n"
   ]
  },
  {
   "cell_type": "markdown",
   "metadata": {},
   "source": [
    "# EXTRACT"
   ]
  },
  {
   "cell_type": "code",
   "execution_count": 20,
   "metadata": {},
   "outputs": [],
   "source": [
    "# etl project to load data from github to data warehouse\n",
    "# define parameters\n",
    "username = 'DaliDalmas'\n",
    "repo_name = 'files'\n",
    "subfolder_path = 'files'\n",
    "\n",
    "send_email = mail_sender.send_email"
   ]
  },
  {
   "cell_type": "code",
   "execution_count": 3,
   "metadata": {},
   "outputs": [],
   "source": [
    "get_csv_files = github_connector.get_csv_files\n",
    "\n",
    "get_json_files = github_connector.get_json_files\n",
    "\n",
    "\n",
    "csv_files = [text.replace(' ','%20') for text in get_csv_files(username,repo_name,subfolder_path)]\n",
    "\n",
    "json_files = [text.replace(' ','%20') for text in get_json_files(username,repo_name,subfolder_path)]\n",
    "\n",
    "csv_urls = [f'https://raw.githubusercontent.com/DaliDalmas/files/main/files/{filename}' for filename in csv_files]\n",
    "\n",
    "json_urls = [f'https://raw.githubusercontent.com/DaliDalmas/files/main/files/{filename}' for filename in json_files]"
   ]
  },
  {
   "cell_type": "code",
   "execution_count": 4,
   "metadata": {},
   "outputs": [],
   "source": [
    "# extracting csv files\n",
    "message_list = []\n",
    "\n",
    "cols = pd.read_json('https://raw.githubusercontent.com/DaliDalmas/files/main/files/file5.json').columns\n",
    "\n",
    "df_csv = pd.DataFrame(columns=cols)\n",
    "conv_dict = {'id':str,'file_id':str}\n",
    "\n",
    "for url in csv_urls:\n",
    "    df = pd.read_csv(url)\n",
    "    if 'employee' in df.columns:\n",
    "        pass\n",
    "    else:\n",
    "        try:\n",
    "            df['file_id'] = csv_urls.index(url)\n",
    "            df = df.astype(conv_dict)\n",
    "            df['id'] = df['file_id'] + '-' + df['id']\n",
    "            df.drop('file_id',axis=1,inplace=True)\n",
    "            df_csv = pd.concat([df_csv,df])\n",
    "            \n",
    "        except Exception as e:\n",
    "            csv_status = 'Incomplete'\n",
    "            message_list.append(e)\n",
    "        else:\n",
    "            csv_status = 'completed'\n",
    "            # send a mail to dami - unable to extract csv files\n",
    "            "
   ]
  },
  {
   "cell_type": "code",
   "execution_count": 5,
   "metadata": {},
   "outputs": [],
   "source": [
    "# extracting json files\n",
    "cols = pd.read_json('https://raw.githubusercontent.com/DaliDalmas/files/main/files/file5.json').columns\n",
    "\n",
    "df_json = pd.DataFrame(columns=cols)\n",
    "conv_dict = {'id':str,'file_id':str}\n",
    "\n",
    "for url in json_urls:\n",
    "    df = pd.read_json(url)\n",
    "    if 'employee' in df.columns:\n",
    "        pass\n",
    "    else:\n",
    "        try:\n",
    "            df['file_id'] = json_urls.index(url)\n",
    "            df = df.astype(conv_dict)\n",
    "            df['id'] = 'j' + df['file_id'] + '-' + df['id']\n",
    "            df.drop('file_id',axis=1,inplace=True)\n",
    "            df_json = pd.concat([df_json,df])\n",
    "\n",
    "        except Exception as e:\n",
    "            json_status = 'Incomplete'\n",
    "            message_list.append(e)\n",
    "        else:\n",
    "            json_status = 'completed'\n"
   ]
  },
  {
   "cell_type": "markdown",
   "metadata": {},
   "source": [
    "#  TRANSFORM"
   ]
  },
  {
   "cell_type": "code",
   "execution_count": 7,
   "metadata": {},
   "outputs": [],
   "source": [
    "if csv_status == 'completed' and json_status == 'completed':\n",
    "    try:\n",
    "        df = pd.concat([df_json,df_csv])\n",
    "        df['gender'] = df.gender.apply(lambda x:str(x).lower())\n",
    "        df.gender.replace({'m':'male','f':'female','nan':np.nan,'none':np.nan},inplace=True)\n",
    "        df['phone'] = df['phone'].replace({None: np.nan})\n",
    "        df['dateloaded'] = dt.datetime.utcnow()\n",
    "    except Exception as e:\n",
    "        transformation_status = 'Incomplete'\n",
    "        message_list.append(e)\n",
    "    else:\n",
    "        transformation_status = 'completed'\n",
    "\n",
    "else:\n",
    "    transformation_status = 'Not started'\n",
    "    \n",
    "    send_email(send_to=dammy,subject='DATA EXTRACTION FAILED',body=error_messages.extraction_error(message_list))\n",
    "    \n"
   ]
  },
  {
   "cell_type": "markdown",
   "metadata": {},
   "source": [
    "# LOAD"
   ]
  },
  {
   "cell_type": "code",
   "execution_count": 8,
   "metadata": {},
   "outputs": [],
   "source": [
    "create_tables_file_path = os.getcwd() + '/queries/create_tables.sql'\n",
    "create_sp_file_path = os.getcwd() +'/queries/sp_truncate_load_customers.sql'\n",
    "\n",
    "\n",
    "# read relevant queries from files\n",
    "with open(create_tables_file_path,mode='r') as f:\n",
    "    create_tables_query = f.read()\n",
    "\n",
    "with open(create_sp_file_path,mode='r') as f:\n",
    "    create_sp_query = f.read()"
   ]
  },
  {
   "cell_type": "code",
   "execution_count": 29,
   "metadata": {},
   "outputs": [],
   "source": [
    "# dql statements to create relevant sql objects\n",
    "# run once then comment out\n",
    "\n",
    "write_sql = sql_connector.write_sql\n",
    "\n",
    "write_sql(query=create_tables_query)\n",
    "\n",
    "write_sql(query=create_sp_query)"
   ]
  },
  {
   "cell_type": "code",
   "execution_count": null,
   "metadata": {},
   "outputs": [],
   "source": [
    "if transformation_status == 'completed':\n",
    "\n",
    "    try:\n",
    "        # write csv file to blob\n",
    "        save_dataframe_to_blob = azure_blob_uploader.save_dataframe_to_blob\n",
    "\n",
    "        file_url = save_dataframe_to_blob(df, 'all_customers.csv')\n",
    "\n",
    "        # copy csv file from blob to stage table\n",
    "\n",
    "        copy_csv_to_table_query = f\"\"\"\n",
    "        COPY INTO stage.customers\n",
    "        FROM '{file_url}'\n",
    "        WITH\n",
    "        (\n",
    "            FILE_TYPE = 'CSV',\n",
    "            MAXERRORS = 0,\n",
    "            FIRSTROW = 2,\n",
    "            PARSER_VERSION = '2.0'\n",
    "        );\n",
    "        \"\"\"\n",
    "        write_sql(query=copy_csv_to_table_query)\n",
    "\n",
    "        # execute stored procedure to move data from stage to dbo schema\n",
    "        write_sql('exec sp_truncate_load_customers')\n",
    "    \n",
    "    except Exception as e:\n",
    "        message_list.append(e)\n",
    "        send_email(send_to=dammy,subject='DATA LOADING FAILED',body=error_messages.loading_error(message_list))\n",
    "\n",
    "\n",
    "elif transformation_status == 'Not started':\n",
    "    pass\n",
    "\n",
    "else:\n",
    "    \n",
    "    send_email(send_to=dammy,subject='DATA TRANSFORMATION FAILED',body=error_messages.transformation_error(message_list))\n",
    "\n",
    "\n",
    "\n"
   ]
  }
 ],
 "metadata": {
  "kernelspec": {
   "display_name": "Python 3.9.6 64-bit",
   "language": "python",
   "name": "python3"
  },
  "language_info": {
   "codemirror_mode": {
    "name": "ipython",
    "version": 3
   },
   "file_extension": ".py",
   "mimetype": "text/x-python",
   "name": "python",
   "nbconvert_exporter": "python",
   "pygments_lexer": "ipython3",
   "version": "3.9.6"
  },
  "orig_nbformat": 4,
  "vscode": {
   "interpreter": {
    "hash": "31f2aee4e71d21fbe5cf8b01ff0e069b9275f58929596ceb00d14d90e3e16cd6"
   }
  }
 },
 "nbformat": 4,
 "nbformat_minor": 2
}
